{
 "cells": [
  {
   "cell_type": "code",
   "execution_count": null,
   "metadata": {},
   "outputs": [],
   "source": [
    "import cx_Oracle\n",
    "\n",
    "# automonous data warehouse connection\n",
    "# update below with your db credentials\n",
    "# add wallet files to wallet folder\n",
    "DB = \"<database_connection_name_in_tnsnames.ora>\"\n",
    "DB_USER = \"<database_user>\"\n",
    "DB_PASSWORD = \"<database_password>\"\n",
    "\n",
    "connection = cx_Oracle.connect(DB_USER, DB_PASSWORD, DB)\n",
    "connection.version"
   ]
  }
 ],
 "metadata": {
  "kernelspec": {
   "display_name": "Python 3",
   "language": "python",
   "name": "python3"
  },
  "language_info": {
   "codemirror_mode": {
    "name": "ipython",
    "version": 3
   },
   "file_extension": ".py",
   "mimetype": "text/x-python",
   "name": "python",
   "nbconvert_exporter": "python",
   "pygments_lexer": "ipython3",
   "version": "3.6.3"
  }
 },
 "nbformat": 4,
 "nbformat_minor": 2
}
